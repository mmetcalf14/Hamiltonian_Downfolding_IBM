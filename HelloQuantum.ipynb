{
 "cells": [
  {
   "cell_type": "code",
   "execution_count": 8,
   "metadata": {},
   "outputs": [
    {
     "ename": "IBMQAccountError",
     "evalue": "'An IBM Q Experience v2 account is already enabled.'",
     "output_type": "error",
     "traceback": [
      "\u001b[0;31m---------------------------------------------------------------------------\u001b[0m",
      "\u001b[0;31mIBMQAccountError\u001b[0m                          Traceback (most recent call last)",
      "\u001b[0;32m<ipython-input-8-8a983a1e9702>\u001b[0m in \u001b[0;36m<module>\u001b[0;34m\u001b[0m\n\u001b[1;32m      3\u001b[0m \u001b[0;32mfrom\u001b[0m \u001b[0mqiskit\u001b[0m\u001b[0;34m.\u001b[0m\u001b[0mproviders\u001b[0m\u001b[0;34m.\u001b[0m\u001b[0mmodels\u001b[0m \u001b[0;32mimport\u001b[0m \u001b[0mBackendProperties\u001b[0m\u001b[0;34m\u001b[0m\u001b[0;34m\u001b[0m\u001b[0m\n\u001b[1;32m      4\u001b[0m \u001b[0;32mimport\u001b[0m \u001b[0myaml\u001b[0m\u001b[0;34m\u001b[0m\u001b[0;34m\u001b[0m\u001b[0m\n\u001b[0;32m----> 5\u001b[0;31m \u001b[0mIBMQ\u001b[0m\u001b[0;34m.\u001b[0m\u001b[0menable_account\u001b[0m\u001b[0;34m(\u001b[0m\u001b[0mtoken\u001b[0m\u001b[0;34m=\u001b[0m\u001b[0;34m'f3e59f3967991477fc6a8413858524079a26a6e512874242a4ef41532cceca99b646d05af0e29fe234bd4aa5f4d491b6a5cd90734b124f5e8877d53884eafb74'\u001b[0m\u001b[0;34m)\u001b[0m\u001b[0;34m\u001b[0m\u001b[0;34m\u001b[0m\u001b[0m\n\u001b[0m",
      "\u001b[0;32m~/Dropbox/Quantum Embedding/Codes/Lithium_Downfolding/Qiskit Chem/Hamiltonian_Downfolding_IBM/VirtualChem/lib/python3.6/site-packages/qiskit/providers/ibmq/ibmqfactory.py\u001b[0m in \u001b[0;36menable_account\u001b[0;34m(self, token, url, **kwargs)\u001b[0m\n\u001b[1;32m     76\u001b[0m         \u001b[0;31m# Check if an IBM Q Experience 2 account is already in use.\u001b[0m\u001b[0;34m\u001b[0m\u001b[0;34m\u001b[0m\u001b[0;34m\u001b[0m\u001b[0m\n\u001b[1;32m     77\u001b[0m         \u001b[0;32mif\u001b[0m \u001b[0mself\u001b[0m\u001b[0;34m.\u001b[0m\u001b[0m_credentials\u001b[0m\u001b[0;34m:\u001b[0m\u001b[0;34m\u001b[0m\u001b[0;34m\u001b[0m\u001b[0m\n\u001b[0;32m---> 78\u001b[0;31m             raise IBMQAccountError('An IBM Q Experience v2 account is already '\n\u001b[0m\u001b[1;32m     79\u001b[0m                                    'enabled.')\n\u001b[1;32m     80\u001b[0m \u001b[0;34m\u001b[0m\u001b[0m\n",
      "\u001b[0;31mIBMQAccountError\u001b[0m: 'An IBM Q Experience v2 account is already enabled.'"
     ]
    }
   ],
   "source": [
    "from qiskit import IBMQ\n",
    "from qiskit.validation import BaseModel\n",
    "from qiskit.providers.models import BackendProperties\n",
    "import yaml\n",
    "#IBMQ.enable_account(token='f3e59f3967991477fc6a8413858524079a26a6e512874242a4ef41532cceca99b646d05af0e29fe234bd4aa5f4d491b6a5cd90734b124f5e8877d53884eafb74')\n"
   ]
  },
  {
   "cell_type": "code",
   "execution_count": 9,
   "metadata": {},
   "outputs": [
    {
     "name": "stdout",
     "output_type": "stream",
     "text": [
      "[<IBMQSimulator('ibmq_qasm_simulator') from IBMQ(hub='ibm-q-ornl', group='ascr-qis', project='berkeley')>, <IBMQBackend('ibmq_20_tokyo') from IBMQ(hub='ibm-q-ornl', group='ascr-qis', project='berkeley')>, <IBMQBackend('ibmq_poughkeepsie') from IBMQ(hub='ibm-q-ornl', group='ascr-qis', project='berkeley')>, <IBMQBackend('ibmq_boeblingen') from IBMQ(hub='ibm-q-ornl', group='ascr-qis', project='berkeley')>, <IBMQBackend('ibmq_valencia') from IBMQ(hub='ibm-q-ornl', group='ascr-qis', project='berkeley')>, <IBMQBackend('ibmq_johannesburg') from IBMQ(hub='ibm-q-ornl', group='ascr-qis', project='berkeley')>]\n",
      "Backend function\n"
     ]
    }
   ],
   "source": [
    "provider = IBMQ.get_provider(hub='ibm-q-ornl')\n",
    "print(provider.backends())\n",
    "device = provider.get_backend('ibmq_boeblingen')"
   ]
  },
  {
   "cell_type": "markdown",
   "metadata": {},
   "source": [
    "### Simple Circuit to Simulate with IBMQ"
   ]
  },
  {
   "cell_type": "code",
   "execution_count": 10,
   "metadata": {},
   "outputs": [
    {
     "name": "stdout",
     "output_type": "stream",
     "text": [
      "         ┌───┐                      ┌───┐┌─┐\n",
      "q1_0: |0>┤ H ├──■────────────────■──┤ H ├┤M├\n",
      "         └───┘┌─┴─┐┌──────────┐┌─┴─┐└┬─┬┘└╥┘\n",
      "q1_1: |0>─────┤ X ├┤ U1(pi/4) ├┤ X ├─┤M├──╫─\n",
      "              └───┘└──────────┘└───┘ └╥┘  ║ \n",
      " c1_0: 0 ═════════════════════════════╬═══╩═\n",
      "                                      ║     \n",
      " c1_1: 0 ═════════════════════════════╩═════\n",
      "                                            \n"
     ]
    }
   ],
   "source": [
    "from math import pi\n",
    "from qiskit import QuantumCircuit, ClassicalRegister, QuantumRegister\n",
    "\n",
    "qr = QuantumRegister(2)\n",
    "cr = ClassicalRegister(2)\n",
    "circuit = QuantumCircuit(qr, cr)\n",
    "\n",
    "circuit.h(qr[0])\n",
    "circuit.cx(qr[0],qr[1])\n",
    "circuit.u1(pi/4., qr[1])\n",
    "circuit.cx(qr[0],qr[1])\n",
    "circuit.h(qr[0])\n",
    "circuit.measure(qr[0],cr[0])\n",
    "circuit.measure(qr[1],cr[1])\n",
    "print(circuit)"
   ]
  },
  {
   "cell_type": "markdown",
   "metadata": {},
   "source": [
    "Execute the circuit on IBM machines"
   ]
  },
  {
   "cell_type": "code",
   "execution_count": 6,
   "metadata": {},
   "outputs": [
    {
     "name": "stdout",
     "output_type": "stream",
     "text": [
      "                                                                   \n",
      "  (ancilla0) q0|0>─────────────────────────────────────────────────\n",
      "                                                                   \n",
      "  (ancilla1) q1|0>─────────────────────────────────────────────────\n",
      "                                                                   \n",
      "  (ancilla2) q2|0>─────────────────────────────────────────────────\n",
      "                                                                   \n",
      "  (ancilla3) q3|0>─────────────────────────────────────────────────\n",
      "                                                                   \n",
      "  (ancilla4) q4|0>─────────────────────────────────────────────────\n",
      "                                                                   \n",
      "  (ancilla5) q5|0>─────────────────────────────────────────────────\n",
      "                                                                   \n",
      "  (ancilla6) q6|0>─────────────────────────────────────────────────\n",
      "                                                                   \n",
      "  (ancilla7) q7|0>─────────────────────────────────────────────────\n",
      "                                                                   \n",
      "  (ancilla8) q8|0>─────────────────────────────────────────────────\n",
      "                                                                   \n",
      "  (ancilla9) q9|0>─────────────────────────────────────────────────\n",
      "                                                                   \n",
      "(ancilla10) q10|0>─────────────────────────────────────────────────\n",
      "                                                                   \n",
      "(ancilla11) q11|0>─────────────────────────────────────────────────\n",
      "                                                                   \n",
      "(ancilla12) q12|0>─────────────────────────────────────────────────\n",
      "                                                                   \n",
      "(ancilla13) q13|0>─────────────────────────────────────────────────\n",
      "                                                                   \n",
      "(ancilla14) q14|0>─────────────────────────────────────────────────\n",
      "                  ┌──────────┐                      ┌──────────┐┌─┐\n",
      "      (q00) q15|0>┤ U2(0,pi) ├──■────────────────■──┤ U2(0,pi) ├┤M├\n",
      "                  └──────────┘┌─┴─┐┌──────────┐┌─┴─┐└──────────┘└╥┘\n",
      "      (q01) q16|0>────────────┤ X ├┤ U1(pi/4) ├┤ X ├─────────────╫─\n",
      "                              └───┘└──────────┘└───┘             ║ \n",
      "(ancilla15) q17|0>───────────────────────────────────────────────╫─\n",
      "                                                                 ║ \n",
      "(ancilla16) q18|0>───────────────────────────────────────────────╫─\n",
      "                                                                 ║ \n",
      "(ancilla17) q19|0>───────────────────────────────────────────────╫─\n",
      "                                                                 ║ \n",
      "          c0_0: 0 ═══════════════════════════════════════════════╩═\n",
      "                                                                   \n"
     ]
    }
   ],
   "source": [
    "from qiskit import execute\n",
    "from qiskit.compiler import transpile, assemble\n",
    "\n",
    "mapped_circuit = transpile(circuit, backend=device, optimization_level=2)\n",
    "print(mapped_circuit)\n"
   ]
  },
  {
   "cell_type": "code",
   "execution_count": 7,
   "metadata": {},
   "outputs": [
    {
     "name": "stdout",
     "output_type": "stream",
     "text": [
      "Job Status: job has successfully run\n",
      "Result(backend_name='ibmq_boeblingen', backend_version='1.0.0', date=datetime.datetime(2019, 9, 24, 0, 15, 8, tzinfo=tzutc()), execution_id='589c7a0c-de60-11e9-bb08-ac1f6bb56700', header=Obj(backend_name='ibmq_boeblingen', backend_version='1.0.0'), job_id='', qobj_id='My first quantum run.', results=[ExperimentResult(data=ExperimentResultData(counts=Obj(0x0=861, 0x1=163)), header=Obj(clbit_labels=[['c0', 0]], creg_sizes=[['c0', 1]], memory_slots=1, n_qubits=20, name='circuit0', qreg_sizes=[['q', 20]], qubit_labels=[['q', 0], ['q', 1], ['q', 2], ['q', 3], ['q', 4], ['q', 5], ['q', 6], ['q', 7], ['q', 8], ['q', 9], ['q', 10], ['q', 11], ['q', 12], ['q', 13], ['q', 14], ['q', 15], ['q', 16], ['q', 17], ['q', 18], ['q', 19]]), meas_level=2, memory=False, shots=1024, success=True)], status='Successful completion', success=True, time_taken=12.357259750366211)\n",
      "{'0': 861, '1': 163}\n"
     ]
    }
   ],
   "source": [
    "from qiskit.tools.monitor import job_monitor\n",
    "\n",
    "qid = 'My first quantum run.'\n",
    "qobj = assemble(mapped_circuit, qobj_id=qid, backend=device, shots=1024)\n",
    "job = device.run(qobj)\n",
    "job_monitor(job)\n",
    "status = job.status()\n",
    "if status.name == 'DONE':\n",
    "    print(job.result())\n",
    "results = job.result()\n",
    "print(results.get_counts())"
   ]
  },
  {
   "cell_type": "code",
   "execution_count": 1,
   "metadata": {},
   "outputs": [
    {
     "ename": "NameError",
     "evalue": "name 'job' is not defined",
     "output_type": "error",
     "traceback": [
      "\u001b[0;31m---------------------------------------------------------------------------\u001b[0m",
      "\u001b[0;31mNameError\u001b[0m                                 Traceback (most recent call last)",
      "\u001b[0;32m<ipython-input-1-7ecfff7b018c>\u001b[0m in \u001b[0;36m<module>\u001b[0;34m\u001b[0m\n\u001b[1;32m      1\u001b[0m \u001b[0;32mfrom\u001b[0m \u001b[0mqiskit\u001b[0m\u001b[0;34m.\u001b[0m\u001b[0mvisualization\u001b[0m \u001b[0;32mimport\u001b[0m \u001b[0mplot_histogram\u001b[0m\u001b[0;34m\u001b[0m\u001b[0;34m\u001b[0m\u001b[0m\n\u001b[0;32m----> 2\u001b[0;31m \u001b[0mjob_results\u001b[0m \u001b[0;34m=\u001b[0m \u001b[0mjob\u001b[0m\u001b[0;34m.\u001b[0m\u001b[0mresult\u001b[0m\u001b[0;34m(\u001b[0m\u001b[0;34m)\u001b[0m\u001b[0;34m\u001b[0m\u001b[0;34m\u001b[0m\u001b[0m\n\u001b[0m\u001b[1;32m      3\u001b[0m \u001b[0mjob_counts\u001b[0m \u001b[0;34m=\u001b[0m \u001b[0mjob_results\u001b[0m\u001b[0;34m.\u001b[0m\u001b[0mget_counts\u001b[0m\u001b[0;34m(\u001b[0m\u001b[0;34m)\u001b[0m\u001b[0;34m\u001b[0m\u001b[0;34m\u001b[0m\u001b[0m\n\u001b[1;32m      4\u001b[0m \u001b[0mprint\u001b[0m\u001b[0;34m(\u001b[0m\u001b[0mjob_counts\u001b[0m\u001b[0;34m)\u001b[0m\u001b[0;34m\u001b[0m\u001b[0;34m\u001b[0m\u001b[0m\n",
      "\u001b[0;31mNameError\u001b[0m: name 'job' is not defined"
     ]
    }
   ],
   "source": [
    "from qiskit.visualization import plot_histogram\n",
    "job_results = job.result()\n",
    "job_counts = job_results.get_counts()\n",
    "print(job_counts)"
   ]
  },
  {
   "cell_type": "code",
   "execution_count": 35,
   "metadata": {},
   "outputs": [
    {
     "name": "stdout",
     "output_type": "stream",
     "text": [
      "JobStatus.RUNNING\n"
     ]
    }
   ],
   "source": [
    "print(job.status())"
   ]
  },
  {
   "cell_type": "code",
   "execution_count": 17,
   "metadata": {},
   "outputs": [
    {
     "name": "stdout",
     "output_type": "stream",
     "text": [
      "5d8947de4a13e1001863a9e7\n"
     ]
    }
   ],
   "source": [
    "print(job.job_id())"
   ]
  },
  {
   "cell_type": "markdown",
   "metadata": {},
   "source": [
    "Now create a list of jobs for rotations at different angles. Learn how this works"
   ]
  },
  {
   "cell_type": "code",
   "execution_count": 25,
   "metadata": {},
   "outputs": [
    {
     "name": "stdout",
     "output_type": "stream",
     "text": [
      "         ┌───┐                      ┌───┐┌─┐\n",
      "q8_0: |0>┤ H ├──■────────────────■──┤ H ├┤M├\n",
      "         └───┘┌─┴─┐┌──────────┐┌─┴─┐└───┘└╥┘\n",
      "q8_1: |0>─────┤ X ├┤ U1(pi/4) ├┤ X ├──────╫─\n",
      "              └───┘└──────────┘└───┘      ║ \n",
      " c8_0: 0 ═════════════════════════════════╩═\n",
      "                                            \n",
      "         ┌───┐                      ┌───┐┌─┐\n",
      "q9_0: |0>┤ H ├──■────────────────■──┤ H ├┤M├\n",
      "         └───┘┌─┴─┐┌──────────┐┌─┴─┐└───┘└╥┘\n",
      "q9_1: |0>─────┤ X ├┤ U1(pi/2) ├┤ X ├──────╫─\n",
      "              └───┘└──────────┘└───┘      ║ \n",
      " c9_0: 0 ═════════════════════════════════╩═\n",
      "                                            \n",
      "          ┌───┐                       ┌───┐┌─┐\n",
      "q10_0: |0>┤ H ├──■─────────────────■──┤ H ├┤M├\n",
      "          └───┘┌─┴─┐┌───────────┐┌─┴─┐└───┘└╥┘\n",
      "q10_1: |0>─────┤ X ├┤ U1(-pi/4) ├┤ X ├──────╫─\n",
      "               └───┘└───────────┘└───┘      ║ \n",
      " c10_0: 0 ══════════════════════════════════╩═\n",
      "                                              \n"
     ]
    }
   ],
   "source": [
    "qr1 = QuantumRegister(2)\n",
    "cr1 = ClassicalRegister(1)\n",
    "qr2 = QuantumRegister(2)\n",
    "cr2 = ClassicalRegister(1)\n",
    "qr3 = QuantumRegister(2)\n",
    "cr3 = ClassicalRegister(1)\n",
    "circuit1 = QuantumCircuit(qr1, cr1)\n",
    "circuit2 = QuantumCircuit(qr2, cr2)\n",
    "circuit3 = QuantumCircuit(qr3, cr3)\n",
    "\n",
    "circuit1.h(qr1[0])\n",
    "circuit1.cx(qr1[0],qr1[1])\n",
    "circuit1.u1(pi/4., qr1[1])\n",
    "circuit1.cx(qr1[0],qr1[1])\n",
    "circuit1.h(qr1[0])\n",
    "circuit1.measure(qr1[0],cr1[0])\n",
    "print(circuit1)\n",
    "\n",
    "circuit2.h(qr2[0])\n",
    "circuit2.cx(qr2[0],qr2[1])\n",
    "circuit2.u1(pi/2., qr2[1])\n",
    "circuit2.cx(qr2[0],qr2[1])\n",
    "circuit2.h(qr2[0])\n",
    "circuit2.measure(qr2[0],cr2[0])\n",
    "print(circuit2)\n",
    "\n",
    "circuit3.h(qr3[0])\n",
    "circuit3.cx(qr3[0],qr3[1])\n",
    "circuit3.u1(-pi/4., qr3[1])\n",
    "circuit3.cx(qr3[0],qr3[1])\n",
    "circuit3.h(qr3[0])\n",
    "circuit3.measure(qr3[0],cr3[0])\n",
    "print(circuit3)\n",
    "\n",
    "my_circuits = [circuit1, circuit2, circuit3]\n",
    "qubits = {qr1[0]:0, qr1[1]:1, qr2[0]:3, qr[1]:8, qr3[0]:15, qr3[1]:16}"
   ]
  },
  {
   "cell_type": "code",
   "execution_count": 32,
   "metadata": {},
   "outputs": [],
   "source": [
    "# mapped_circuits = transpile(my_circuits, backend=device, initial_layout=qubits)\n",
    "mapped_circuits = transpile(my_circuits, backend=device)\n",
    "batch_id = 'Running a bunch of jobs'\n",
    "qobj_batch = assemble(mapped_circuits, backend=device, qobj_id=batch_id, shots=1024)\n",
    "batch_job = device.run(qobj_batch)"
   ]
  },
  {
   "cell_type": "code",
   "execution_count": 40,
   "metadata": {},
   "outputs": [
    {
     "name": "stdout",
     "output_type": "stream",
     "text": [
      "JobStatus.DONE\n"
     ]
    }
   ],
   "source": [
    "print(job.status())"
   ]
  },
  {
   "cell_type": "code",
   "execution_count": 39,
   "metadata": {},
   "outputs": [
    {
     "name": "stdout",
     "output_type": "stream",
     "text": [
      "Job Status: job has successfully run\n"
     ]
    }
   ],
   "source": [
    "from qiskit.tools.monitor import job_monitor\n",
    "\n",
    "job_monitor(batch_job)\n",
    "\n",
    "# status = job.status()\n",
    "# if status.name == 'DONE'\n",
    "#     file_out\n",
    "# All of this job info can be saved to a yaml file"
   ]
  },
  {
   "cell_type": "code",
   "execution_count": 41,
   "metadata": {},
   "outputs": [
    {
     "data": {
      "text/plain": [
       "<JobStatus.DONE: 'job has successfully run'>"
      ]
     },
     "execution_count": 41,
     "metadata": {},
     "output_type": "execute_result"
    }
   ],
   "source": [
    "batch_job.status()"
   ]
  },
  {
   "cell_type": "code",
   "execution_count": 2,
   "metadata": {},
   "outputs": [
    {
     "ename": "NameError",
     "evalue": "name 'batch_job' is not defined",
     "output_type": "error",
     "traceback": [
      "\u001b[0;31m---------------------------------------------------------------------------\u001b[0m",
      "\u001b[0;31mNameError\u001b[0m                                 Traceback (most recent call last)",
      "\u001b[0;32m<ipython-input-2-4dac43b95860>\u001b[0m in \u001b[0;36m<module>\u001b[0;34m\u001b[0m\n\u001b[0;32m----> 1\u001b[0;31m \u001b[0mprint\u001b[0m\u001b[0;34m(\u001b[0m\u001b[0mbatch_job\u001b[0m\u001b[0;34m)\u001b[0m\u001b[0;34m\u001b[0m\u001b[0;34m\u001b[0m\u001b[0m\n\u001b[0m",
      "\u001b[0;31mNameError\u001b[0m: name 'batch_job' is not defined"
     ]
    }
   ],
   "source": [
    "print(batch_job)"
   ]
  },
  {
   "cell_type": "markdown",
   "metadata": {},
   "source": [
    "# Readout Error Mitigation"
   ]
  },
  {
   "cell_type": "markdown",
   "metadata": {},
   "source": [
    "Using the Quantum Instance Class and the QASM_Sim backend I am comparing the readout error mitigation method in Qiskit to my own for the small simple circuit above.\n",
    "\n",
    "Step 1: Create 2^N (4 in this case) circuits to get calibration matrix\n",
    "\n",
    "Step 2: Run Noisy Circuit and get results. Store in vector\n",
    "\n",
    "Step 3: Do a linear solve (Ax = b) using calibration matrix to solve 'x' (mitigated)"
   ]
  },
  {
   "cell_type": "code",
   "execution_count": 11,
   "metadata": {},
   "outputs": [
    {
     "name": "stdout",
     "output_type": "stream",
     "text": [
      "         ┌─┐   \n",
      "q2_0: |0>┤M├───\n",
      "         └╥┘┌─┐\n",
      "q2_1: |0>─╫─┤M├\n",
      "          ║ └╥┘\n",
      " c2_0: 0 ═╩══╬═\n",
      "             ║ \n",
      " c2_1: 0 ════╩═\n",
      "               \n"
     ]
    }
   ],
   "source": [
    "q00 = QuantumRegister(2)\n",
    "c00 = ClassicalRegister(2)\n",
    "cirq_00 = QuantumCircuit(q00, c00)\n",
    "cirq_00.measure(q00[0],c00[0])\n",
    "cirq_00.measure(q00[1],c00[1])\n",
    "\n",
    "print(cirq_00)\n",
    "\n"
   ]
  },
  {
   "cell_type": "code",
   "execution_count": 12,
   "metadata": {},
   "outputs": [
    {
     "name": "stdout",
     "output_type": "stream",
     "text": [
      "         ┌───┐┌─┐\n",
      "q3_0: |0>┤ X ├┤M├\n",
      "         └┬─┬┘└╥┘\n",
      "q3_1: |0>─┤M├──╫─\n",
      "          └╥┘  ║ \n",
      " c3_0: 0 ══╬═══╩═\n",
      "           ║     \n",
      " c3_1: 0 ══╩═════\n",
      "                 \n"
     ]
    }
   ],
   "source": [
    "q01 = QuantumRegister(2)\n",
    "c01 = ClassicalRegister(2)\n",
    "cirq_01 = QuantumCircuit(q01, c01)\n",
    "cirq_01.x(q01[0])\n",
    "cirq_01.measure(q01[0],c01[0])\n",
    "cirq_01.measure(q01[1],c01[1])\n",
    "\n",
    "print(cirq_01)"
   ]
  },
  {
   "cell_type": "code",
   "execution_count": 13,
   "metadata": {},
   "outputs": [
    {
     "name": "stdout",
     "output_type": "stream",
     "text": [
      "         ┌─┐        \n",
      "q4_0: |0>┤M├────────\n",
      "         └╥┘┌───┐┌─┐\n",
      "q4_1: |0>─╫─┤ X ├┤M├\n",
      "          ║ └───┘└╥┘\n",
      " c4_0: 0 ═╩═══════╬═\n",
      "                  ║ \n",
      " c4_1: 0 ═════════╩═\n",
      "                    \n"
     ]
    }
   ],
   "source": [
    "q10 = QuantumRegister(2)\n",
    "c10 = ClassicalRegister(2)\n",
    "cirq_10 = QuantumCircuit(q10, c10)\n",
    "cirq_10.x(q10[1])\n",
    "cirq_10.measure(q10[0],c10[0])\n",
    "cirq_10.measure(q10[1],c10[1])\n",
    "\n",
    "print(cirq_10)"
   ]
  },
  {
   "cell_type": "code",
   "execution_count": 14,
   "metadata": {},
   "outputs": [
    {
     "name": "stdout",
     "output_type": "stream",
     "text": [
      "         ┌───┐┌─┐   \n",
      "q5_0: |0>┤ X ├┤M├───\n",
      "         ├───┤└╥┘┌─┐\n",
      "q5_1: |0>┤ X ├─╫─┤M├\n",
      "         └───┘ ║ └╥┘\n",
      " c5_0: 0 ══════╩══╬═\n",
      "                  ║ \n",
      " c5_1: 0 ═════════╩═\n",
      "                    \n"
     ]
    }
   ],
   "source": [
    "q11 = QuantumRegister(2)\n",
    "c11 = ClassicalRegister(2)\n",
    "cirq_11 = QuantumCircuit(q11, c11)\n",
    "cirq_11.x(q11[0])\n",
    "cirq_11.x(q11[1])\n",
    "cirq_11.measure(q11[0],c11[0])\n",
    "cirq_11.measure(q11[1],c11[1])\n",
    "\n",
    "print(cirq_11)"
   ]
  },
  {
   "cell_type": "code",
   "execution_count": 1,
   "metadata": {},
   "outputs": [
    {
     "ename": "ModuleNotFoundError",
     "evalue": "No module named 'qiskit'",
     "output_type": "error",
     "traceback": [
      "\u001b[0;31m---------------------------------------------------------------------------\u001b[0m",
      "\u001b[0;31mModuleNotFoundError\u001b[0m                       Traceback (most recent call last)",
      "\u001b[0;32m<ipython-input-1-578b7f7e9727>\u001b[0m in \u001b[0;36m<module>\u001b[0;34m\u001b[0m\n\u001b[0;32m----> 1\u001b[0;31m \u001b[0;32mimport\u001b[0m \u001b[0mqiskit\u001b[0m\u001b[0;34m\u001b[0m\u001b[0;34m\u001b[0m\u001b[0m\n\u001b[0m",
      "\u001b[0;31mModuleNotFoundError\u001b[0m: No module named 'qiskit'"
     ]
    }
   ],
   "source": [
    "\n"
   ]
  },
  {
   "cell_type": "code",
   "execution_count": null,
   "metadata": {},
   "outputs": [],
   "source": []
  }
 ],
 "metadata": {
  "kernelspec": {
   "display_name": "Python 3",
   "language": "python",
   "name": "python3"
  },
  "language_info": {
   "codemirror_mode": {
    "name": "ipython",
    "version": 3
   },
   "file_extension": ".py",
   "mimetype": "text/x-python",
   "name": "python",
   "nbconvert_exporter": "python",
   "pygments_lexer": "ipython3",
   "version": "3.7.4"
  }
 },
 "nbformat": 4,
 "nbformat_minor": 2
}
