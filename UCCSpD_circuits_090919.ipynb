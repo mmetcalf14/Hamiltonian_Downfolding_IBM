{
 "cells": [
  {
   "cell_type": "code",
   "execution_count": 1,
   "metadata": {},
   "outputs": [],
   "source": [
    "from qiskit.chemistry import FermionicOperator\n",
    "from qiskit.chemistry.aqua_extensions.components.initial_states import HartreeFock\n",
    "from qiskit.chemistry.aqua_extensions.components.variational_forms import UCCSD\n",
    "from qiskit.chemistry import QMolecule as qm\n",
    "\n",
    "from qiskit.aqua.components.optimizers import COBYLA\n",
    "from qiskit.aqua import Operator\n",
    "from qiskit.aqua.algorithms import VQE, ExactEigensolver\n",
    "from qiskit import Aer\n",
    "from qiskit.tools.visualization import circuit_drawer\n",
    "\n",
    "from pytket.qiskit import *\n",
    "\n",
    "from qiskit.chemistry.drivers import PySCFDriver, UnitsType\n",
    "import numpy as np\n",
    "import matplotlib as plt\n",
    "import yaml as yml\n",
    "from yaml import SafeLoader as Loader\n",
    "import Load_Hamiltonians as lh\n",
    "import os\n",
    "import time"
   ]
  },
  {
   "cell_type": "code",
   "execution_count": 2,
   "metadata": {},
   "outputs": [
    {
     "name": "stdout",
     "output_type": "stream",
     "text": [
      "repulsion:  1.2499999999999998\n",
      "[-0.7409033, 0.19499881, 0.25575591, 0.69608275]\n"
     ]
    }
   ],
   "source": [
    "root_dir = '/Users/mmetcalf/Dropbox/Quantum Embedding/Codes/Lithium_Downfolding/Qiskit Chem/Hamiltonian_Downfolding_IBM/IntegralData/H2_MEKENA/'\n",
    "NW_data_file = str(root_dir+'h2_ccpvtz_ccsd_0_80au_ducc_1_3.yaml')\n",
    "# NW_data_file = str('H2.yaml')\n",
    "OE_data_file = str(root_dir+ 'h2_ccpvtz_ccsd_0_80au.FOCK')\n",
    "# NW_data_file = 'H2.yaml'\n",
    "doc_nw = open(NW_data_file,'r')\n",
    "doc_oe = open(OE_data_file,'r')\n",
    "data = yml.load(doc_nw,Loader)\n",
    "content_oe = doc_oe.readlines()\n",
    "#################\n",
    "backend1 = Aer.get_backend('statevector_simulator')\n",
    "backend2 = Aer.get_backend('qasm_simulator')\n",
    "#################\n",
    "\n",
    "###########################################################\n",
    "#Initialize Variables\n",
    "map_type = str('jordan_wigner')\n",
    "truncation_threshold = 0.1\n",
    "n_spatial_orbitals = data['integral_sets'][0]['n_orbitals']\n",
    "nuclear_repulsion_energy = data['integral_sets'][0]['coulomb_repulsion']['value']\n",
    "print('repulsion: ',nuclear_repulsion_energy)\n",
    "n_orbitals = 2*n_spatial_orbitals\n",
    "n_particles = data['integral_sets'][0]['n_electrons']\n",
    "\n",
    "#Populating the QMolecule class with the data to make calculations easier\n",
    "qm.num_orbitals = n_spatial_orbitals\n",
    "qm.num_alpha = n_particles//2\n",
    "qm.num_beta = n_particles//2\n",
    "#This is just a place holder for freezing the core that I need for the MP2 calculations\n",
    "qm.core_orbitals = 0\n",
    "qm.nuclear_repulsion_energy = nuclear_repulsion_energy\n",
    "qm.hf_energy = data['integral_sets'][0]['scf_energy']['value']\n",
    "\n",
    "###################Get Orbital Energies from FOCK file########################\n",
    "orbital_energies = []\n",
    "found = False\n",
    "count = 0\n",
    "for line in content_oe:\n",
    "    if 'Eigenvalues:' in line.split()[0]:\n",
    "        found =True\n",
    "    if found and len(line.split()) > 1:\n",
    "        orbital_energies.append(float(line.split()[1]))\n",
    "        count += 1\n",
    "        if count >= n_spatial_orbitals:\n",
    "            break\n",
    "qm.orbital_energies = orbital_energies\n",
    "print(orbital_energies)\n",
    "#7 orbitals\n",
    "#qm.orbital_energies = [-2.4533,-2.4530,-0.1817,0.0065, 0.0273, 0.0273, 0.0385]\n",
    "##############################################################################\n",
    "\n",
    "dist = 2*data['integral_sets'][0]['geometry']['atoms'][1]['coords'][2]\n",
    "if map_type == 'parity':\n",
    "    #For two-qubit reduction\n",
    "    n_qubits = n_orbitals-2\n",
    "else:\n",
    "    n_qubits = n_orbitals\n",
    "\n",
    "active_occ = n_particles//2\n",
    "active_virt = (n_orbitals-n_particles)//2\n",
    "active_occ_list = np.arange(active_occ)\n",
    "active_occ_list = active_occ_list.tolist()\n",
    "#print('Orbitals {} are occupied'.format(active_occ_list))\n",
    "active_virt_list = np.arange(active_virt)\n",
    "active_virt_list = active_virt_list.tolist()"
   ]
  },
  {
   "cell_type": "code",
   "execution_count": 3,
   "metadata": {},
   "outputs": [],
   "source": [
    "one_electron_import = data['integral_sets'][0]['hamiltonian']['one_electron_integrals']['values']\n",
    "two_electron_import = data['integral_sets'][0]['hamiltonian']['two_electron_integrals']['values']\n",
    "\n",
    "one_electron_spatial_integrals, two_electron_spatial_integrals = lh.get_spatial_integrals(one_electron_import,two_electron_import,n_spatial_orbitals)\n",
    "one_electron_spatial_integrals, two_electron_spatial_integrals = lh.trunctate_spatial_integrals(one_electron_spatial_integrals,two_electron_spatial_integrals,.001)\n",
    "\n",
    "qm.mo_eri_ints = two_electron_spatial_integrals\n",
    "h1, h2 = lh.convert_to_spin_index(one_electron_spatial_integrals,two_electron_spatial_integrals,n_spatial_orbitals, .001)\n",
    "\n",
    "fop = FermionicOperator(h1, h2)\n",
    "qop_paulis = fop.mapping(map_type)\n",
    "qop = Operator(paulis=qop_paulis.paulis)"
   ]
  },
  {
   "cell_type": "code",
   "execution_count": 6,
   "metadata": {},
   "outputs": [
    {
     "name": "stdout",
     "output_type": "stream",
     "text": [
      "Here are the singles:  []\n",
      "There are 9 are doubles\n",
      "There are 5 are the new doubles\n",
      "[<qiskit.aqua.operator.Operator object at 0x122a57f60>, <qiskit.aqua.operator.Operator object at 0x122a57908>, <qiskit.aqua.operator.Operator object at 0x122a57fd0>, <qiskit.aqua.operator.Operator object at 0x122a57668>, <qiskit.aqua.operator.Operator object at 0x122a7f630>]\n",
      "There are 5 params in this anzats\n"
     ]
    }
   ],
   "source": [
    "init_state = HartreeFock(n_qubits, n_orbitals, n_particles, map_type,two_qubit_reduction=False)\n",
    "\n",
    "var_op = UCCSD(num_qubits=n_qubits, depth=1, num_orbitals=n_orbitals, num_particles=n_particles, \n",
    "               active_occupied=active_occ_list, active_unoccupied=active_virt_list,initial_state=init_state, \n",
    "               qubit_mapping=map_type, mp2_reduction=True, singles_deletion=True)\n",
    "\n",
    "print('There are {} params in this anzats'.format(var_op.num_parameters))\n",
    "dumpy_params = np.random.rand(var_op.num_parameters)\n",
    "var_cirq = var_op.construct_circuit(dumpy_params)\n",
    "# print(var_cirq)"
   ]
  },
  {
   "cell_type": "code",
   "execution_count": 8,
   "metadata": {},
   "outputs": [
    {
     "data": {
      "text/plain": [
       "<Figure size 1923.06x29289 with 1 Axes>"
      ]
     },
     "execution_count": 8,
     "metadata": {},
     "output_type": "execute_result"
    }
   ],
   "source": [
    "from qiskit.visualization import circuit_drawer\n",
    "\n",
    "circuit_drawer(var_cirq, filename='uccsd_circuit_h2.png',output='mpl')"
   ]
  },
  {
   "cell_type": "code",
   "execution_count": null,
   "metadata": {},
   "outputs": [],
   "source": []
  }
 ],
 "metadata": {
  "kernelspec": {
   "display_name": "Python 3",
   "language": "python",
   "name": "python3"
  },
  "language_info": {
   "codemirror_mode": {
    "name": "ipython",
    "version": 3
   },
   "file_extension": ".py",
   "mimetype": "text/x-python",
   "name": "python",
   "nbconvert_exporter": "python",
   "pygments_lexer": "ipython3",
   "version": "3.6.8"
  }
 },
 "nbformat": 4,
 "nbformat_minor": 2
}
